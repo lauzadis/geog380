{
 "metadata": {
  "language_info": {
   "codemirror_mode": {
    "name": "ipython",
    "version": 3
   },
   "file_extension": ".py",
   "mimetype": "text/x-python",
   "name": "python",
   "nbconvert_exporter": "python",
   "pygments_lexer": "ipython3",
   "version": "3.8.5"
  },
  "orig_nbformat": 2,
  "kernelspec": {
   "name": "python385jvsc74a57bd0c68d4298c5345bf0563781c7251920cf7410e40ed6e84f026b139b699a40b88d",
   "display_name": "Python 3.8.5 64-bit ('base': conda)"
  }
 },
 "nbformat": 4,
 "nbformat_minor": 2,
 "cells": [
  {
   "cell_type": "code",
   "execution_count": 20,
   "metadata": {},
   "outputs": [
    {
     "output_type": "stream",
     "name": "stderr",
     "text": [
      "\n",
      "\n",
      "====== WebDriver manager ======\n",
      "Current google-chrome version is 90.0.4430\n",
      "Get LATEST driver version for 90.0.4430\n",
      "Driver [/home/matas/.wdm/drivers/chromedriver/linux64/90.0.4430.24/chromedriver] found in cache\n"
     ]
    }
   ],
   "source": [
    "import instascrape\n",
    "from bs4 import BeautifulSoup\n",
    "from selenium import webdriver\n",
    "import re\n",
    "from webdriver_manager.chrome import ChromeDriverManager\n",
    "import urllib.parse\n",
    "from datastructures import Location, Site\n",
    "from dataclasses_serialization.json import JSONSerializer\n",
    "import time\n",
    "import json\n",
    "from tqdm import tqdm\n",
    "from multiprocessing import Pool\n",
    "\n",
    "driver = webdriver.Chrome(ChromeDriverManager().install())\n",
    "base_url = \"https://www.instagram.com\""
   ]
  },
  {
   "source": [
    "# 1. Get a list of all Locations that Instagram supports"
   ],
   "cell_type": "markdown",
   "metadata": {}
  },
  {
   "cell_type": "code",
   "execution_count": 5,
   "metadata": {
    "tags": []
   },
   "outputs": [
    {
     "output_type": "stream",
     "name": "stdout",
     "text": [
      "Getting the next page: /explore/locations/US/united-states/?page=2\n",
      "Getting the next page: /explore/locations/US/united-states/?page=3\n",
      "Getting the next page: /explore/locations/US/united-states/?page=4\n",
      "Getting the next page: /explore/locations/US/united-states/?page=5\n",
      "Getting the next page: /explore/locations/US/united-states/?page=6\n",
      "Getting the next page: /explore/locations/US/united-states/?page=7\n",
      "Getting the next page: /explore/locations/US/united-states/?page=8\n",
      "Getting the next page: /explore/locations/US/united-states/?page=9\n",
      "Getting the next page: /explore/locations/US/united-states/?page=10\n",
      "Getting the next page: /explore/locations/US/united-states/?page=11\n"
     ]
    }
   ],
   "source": [
    "driver.get(urllib.parse.urljoin(base_url, \"/explore/locations/US/united-states/\"))\n",
    "soup = BeautifulSoup(driver.page_source)\n",
    "\n",
    "data = {}\n",
    "\n",
    "next_page = not None\n",
    "\n",
    "while next_page is not None:\n",
    "    next_page = soup.find(\"a\", href=re.compile(\"\\?page=\"))\n",
    "\n",
    "    links = soup.find_all(\"a\", href=re.compile(\"/explore/locations/\"))\n",
    "    for link in links:\n",
    "        if link.text == \"See More\":\n",
    "            continue\n",
    "        data[link.text] = Location(link.text, link[\"href\"], [])\n",
    "\n",
    "    if next_page is None:\n",
    "        break\n",
    "\n",
    "    print(\"Getting the next page:\", next_page[\"href\"])\n",
    "    driver.get(urllib.parse.urljoin(base_url, next_page[\"href\"]))\n",
    "    soup = BeautifulSoup(driver.page_source)\n",
    "    time.sleep(2)\n",
    "\n",
    "# Remove last link to more locations\n",
    "del data[\"Locations\"]"
   ]
  },
  {
   "source": [
    "# Get the Sites from each Location"
   ],
   "cell_type": "markdown",
   "metadata": {}
  },
  {
   "cell_type": "code",
   "execution_count": 29,
   "metadata": {},
   "outputs": [
    {
     "output_type": "stream",
     "name": "stdout",
     "text": [
      "Midtown East\n",
      "Failed to scrape /explore/locations/213724998/the-rink-at-rockefeller-center/\n"
     ]
    },
    {
     "output_type": "error",
     "ename": "AttributeError",
     "evalue": "'Location' object has no attribute 'amount_of_posts'",
     "traceback": [
      "\u001b[0;31m---------------------------------------------------------------------------\u001b[0m",
      "\u001b[0;31mAttributeError\u001b[0m                            Traceback (most recent call last)",
      "\u001b[0;32m<ipython-input-29-3fc1c29c6c28>\u001b[0m in \u001b[0;36m<module>\u001b[0;34m\u001b[0m\n\u001b[1;32m     21\u001b[0m                 \u001b[0mprint\u001b[0m\u001b[0;34m(\u001b[0m\u001b[0;34m\"Failed to scrape\"\u001b[0m\u001b[0;34m,\u001b[0m \u001b[0mlink\u001b[0m\u001b[0;34m[\u001b[0m\u001b[0;34m\"href\"\u001b[0m\u001b[0;34m]\u001b[0m\u001b[0;34m)\u001b[0m\u001b[0;34m\u001b[0m\u001b[0;34m\u001b[0m\u001b[0m\n\u001b[1;32m     22\u001b[0m \u001b[0;34m\u001b[0m\u001b[0m\n\u001b[0;32m---> 23\u001b[0;31m             \u001b[0msite\u001b[0m \u001b[0;34m=\u001b[0m \u001b[0mSite\u001b[0m\u001b[0;34m(\u001b[0m\u001b[0mlink\u001b[0m\u001b[0;34m.\u001b[0m\u001b[0mtext\u001b[0m\u001b[0;34m,\u001b[0m \u001b[0mlink\u001b[0m\u001b[0;34m[\u001b[0m\u001b[0;34m\"href\"\u001b[0m\u001b[0;34m]\u001b[0m\u001b[0;34m,\u001b[0m \u001b[0mtemp\u001b[0m\u001b[0;34m.\u001b[0m\u001b[0mamount_of_posts\u001b[0m\u001b[0;34m,\u001b[0m \u001b[0mtemp\u001b[0m\u001b[0;34m.\u001b[0m\u001b[0mlongitude\u001b[0m\u001b[0;34m,\u001b[0m \u001b[0mtemp\u001b[0m\u001b[0;34m.\u001b[0m\u001b[0mlatitude\u001b[0m\u001b[0;34m)\u001b[0m\u001b[0;34m\u001b[0m\u001b[0;34m\u001b[0m\u001b[0m\n\u001b[0m\u001b[1;32m     24\u001b[0m             \u001b[0;32mif\u001b[0m \u001b[0msite\u001b[0m \u001b[0;32mnot\u001b[0m \u001b[0;32min\u001b[0m \u001b[0mlocation\u001b[0m\u001b[0;34m.\u001b[0m\u001b[0msites\u001b[0m\u001b[0;34m:\u001b[0m\u001b[0;34m\u001b[0m\u001b[0;34m\u001b[0m\u001b[0m\n\u001b[1;32m     25\u001b[0m                 \u001b[0mlocation\u001b[0m\u001b[0;34m.\u001b[0m\u001b[0msites\u001b[0m\u001b[0;34m.\u001b[0m\u001b[0mappend\u001b[0m\u001b[0;34m(\u001b[0m\u001b[0msite\u001b[0m\u001b[0;34m)\u001b[0m\u001b[0;34m\u001b[0m\u001b[0;34m\u001b[0m\u001b[0m\n",
      "\u001b[0;31mAttributeError\u001b[0m: 'Location' object has no attribute 'amount_of_posts'"
     ]
    }
   ],
   "source": [
    "for key, location in data.items():\n",
    "    print(location.name)\n",
    "\n",
    "    driver.get(urllib.parse.urljoin(base_url, location.link))\n",
    "    soup = BeautifulSoup(driver.page_source)\n",
    "\n",
    "    next_page = not None\n",
    "\n",
    "    while next_page is not None:\n",
    "        next_page = soup.find(\"a\", href=re.compile(\"\\?page=\"))\n",
    "\n",
    "        links = soup.find_all(\"a\", href=re.compile(\"/explore/locations/[0-9]*/\"))\n",
    "        for link in links:\n",
    "            if link.text == \"See More\":\n",
    "                continue\n",
    "\n",
    "            temp = instascrape.Location(urllib.parse.urljoin(base_url, link[\"href\"]))\n",
    "            try: \n",
    "                temp.scrape()\n",
    "            except:\n",
    "                print(\"Failed to scrape\", link[\"href\"])\n",
    "                continue\n",
    "\n",
    "            site = Site(link.text, link[\"href\"], temp.amount_of_posts, temp.longitude, temp.latitude)\n",
    "            if site not in location.sites:\n",
    "                location.sites.append(site)\n",
    "            time.sleep(0.1)\n",
    "            \n",
    "        if next_page is None:\n",
    "            break\n",
    "\n",
    "        print(\"Getting the next page:\", next_page[\"href\"])\n",
    "        driver.get(urllib.parse.urljoin(base_url, next_page[\"href\"]))\n",
    "        soup = BeautifulSoup(driver.page_source)\n",
    "        time.sleep(2)\n",
    "\n",
    "    serialize_instagram_data(data, \"checkpoint.json\")"
   ]
  },
  {
   "source": [
    "## Serialize / Deserialize the data"
   ],
   "cell_type": "markdown",
   "metadata": {}
  },
  {
   "cell_type": "code",
   "execution_count": 3,
   "metadata": {
    "tags": []
   },
   "outputs": [],
   "source": [
    "def serialize_instagram_data(data: dict, path: str) -> None:\n",
    "    with open(path, \"w\") as file:\n",
    "        json.dump(JSONSerializer.serialize(data), file)\n",
    "\n",
    "def deserialize_instagram_data(path: str) -> dict:\n",
    "    data = json.loads(open(path, \"r\").read())\n",
    "    for key, val in data.items():\n",
    "        data[key] = JSONSerializer.deserialize(Location, data[key])\n",
    "    return data"
   ]
  },
  {
   "cell_type": "code",
   "execution_count": 6,
   "metadata": {},
   "outputs": [],
   "source": [
    "data = deserialize_instagram_data(\"data.json\")"
   ]
  },
  {
   "cell_type": "code",
   "execution_count": 22,
   "metadata": {},
   "outputs": [],
   "source": [
    "def scrape_location(key: str) -> None:\n",
    "    location = data[key]\n",
    "    print(location.name)\n",
    "\n",
    "    driver.get(urllib.parse.urljoin(base_url, location.link))\n",
    "    soup = BeautifulSoup(driver.page_source)\n",
    "\n",
    "    next_page = not None\n",
    "\n",
    "    while next_page is not None:\n",
    "        next_page = soup.find(\"a\", href=re.compile(\"\\?page=\"))\n",
    "\n",
    "        links = soup.find_all(\"a\", href=re.compile(\"/explore/locations/[0-9]*/\"))\n",
    "        for link in links:\n",
    "            if link.text == \"See More\":\n",
    "                continue\n",
    "\n",
    "            temp = instascrape.Location(urllib.parse.urljoin(base_url, link[\"href\"]))\n",
    "            try: \n",
    "                temp.scrape()\n",
    "            except:\n",
    "                print(\"Failed to scrape\", link[\"href\"])\n",
    "                continue\n",
    "\n",
    "            site = Site(link.text, link[\"href\"], temp.amount_of_posts, temp.longitude, temp.latitude)\n",
    "            if site not in location.sites:\n",
    "                location.sites.append(site)\n",
    "            time.sleep(0.1)\n",
    "            \n",
    "        if next_page is None:\n",
    "            break\n",
    "\n",
    "        print(\"Getting the next page:\", next_page[\"href\"])\n",
    "        driver.get(urllib.parse.urljoin(base_url, next_page[\"href\"]))\n",
    "        soup = BeautifulSoup(driver.page_source)\n",
    "        time.sleep(2)\n",
    "\n",
    "    serialize_instagram_data(data, f\"checkpoint_{location.name}.json\")"
   ]
  },
  {
   "cell_type": "code",
   "execution_count": 19,
   "metadata": {},
   "outputs": [
    {
     "output_type": "stream",
     "name": "stdout",
     "text": [
      "Midtown EastUpper West SideVictoriaWashington D.C.West HollywoodTacoma\n",
      "Carson City\n",
      "West Floral Heights Historic District\n",
      "\n",
      "North Park Forest\n",
      "Fig GardenPark SlopeFlatlands\n",
      "Southfield\n",
      "Panorama City\n",
      "\n",
      "LenoxPalmetto I-75 Industrial Center\n",
      "Greenwood Heights\n",
      "\n",
      "\n",
      "\n",
      "Seguin\n",
      "Downtown Long BeachOldhamElizabethtownWynwood\n",
      "Truman Annex\n",
      "\n",
      "\n",
      "Toms River\n",
      "Gardena\n",
      "Antioch\n",
      "KearneyFranklin\n",
      "\n",
      "North Hollywood WestMango Hill\n",
      "\n",
      "HillcrestNew HavenNewtown\n",
      "Mid-City WestKingsville\n",
      "\n",
      "\n",
      "\n",
      "Douglas Byrd\n",
      "\n",
      "\n",
      "Baldwin ParkWest Garden Grove\n",
      "Showplace Square\n",
      "QuincyVineyardMount Prospect\n",
      "Los SerranosDeKalbGreen Hills\n"
     ]
    },
    {
     "output_type": "error",
     "ename": "NameError",
     "evalue": "name 'base_url' is not defined",
     "traceback": [
      "\u001b[0;31m---------------------------------------------------------------------------\u001b[0m",
      "\u001b[0;31mRemoteTraceback\u001b[0m                           Traceback (most recent call last)",
      "\u001b[0;31mRemoteTraceback\u001b[0m: \n\"\"\"\nTraceback (most recent call last):\n  File \"/home/matas/anaconda3/lib/python3.8/multiprocessing/pool.py\", line 125, in worker\n    result = (True, func(*args, **kwds))\n  File \"/home/matas/anaconda3/lib/python3.8/multiprocessing/pool.py\", line 48, in mapstar\n    return list(map(*args))\n  File \"<ipython-input-8-ae0898615e68>\", line 5, in scrape_location\n    driver.get(urllib.parse.urljoin(base_url, location.link))\nNameError: name 'base_url' is not defined\n\"\"\"",
      "\nThe above exception was the direct cause of the following exception:\n",
      "\u001b[0;31mNameError\u001b[0m                                 Traceback (most recent call last)",
      "\u001b[0;32m<ipython-input-19-635436ce3d04>\u001b[0m in \u001b[0;36m<module>\u001b[0;34m\u001b[0m\n\u001b[1;32m      1\u001b[0m \u001b[0mpool\u001b[0m \u001b[0;34m=\u001b[0m \u001b[0mPool\u001b[0m\u001b[0;34m(\u001b[0m\u001b[0;34m)\u001b[0m\u001b[0;34m\u001b[0m\u001b[0;34m\u001b[0m\u001b[0m\n\u001b[0;32m----> 2\u001b[0;31m \u001b[0mpool\u001b[0m\u001b[0;34m.\u001b[0m\u001b[0mmap\u001b[0m\u001b[0;34m(\u001b[0m\u001b[0mscrape_location\u001b[0m\u001b[0;34m,\u001b[0m \u001b[0mlist\u001b[0m\u001b[0;34m(\u001b[0m\u001b[0mdata\u001b[0m\u001b[0;34m.\u001b[0m\u001b[0mkeys\u001b[0m\u001b[0;34m(\u001b[0m\u001b[0;34m)\u001b[0m\u001b[0;34m)\u001b[0m\u001b[0;34m)\u001b[0m\u001b[0;34m\u001b[0m\u001b[0;34m\u001b[0m\u001b[0m\n\u001b[0m",
      "\u001b[0;32m~/anaconda3/lib/python3.8/multiprocessing/pool.py\u001b[0m in \u001b[0;36mmap\u001b[0;34m(self, func, iterable, chunksize)\u001b[0m\n\u001b[1;32m    362\u001b[0m         \u001b[0;32min\u001b[0m \u001b[0ma\u001b[0m \u001b[0mlist\u001b[0m \u001b[0mthat\u001b[0m \u001b[0;32mis\u001b[0m \u001b[0mreturned\u001b[0m\u001b[0;34m.\u001b[0m\u001b[0;34m\u001b[0m\u001b[0;34m\u001b[0m\u001b[0m\n\u001b[1;32m    363\u001b[0m         '''\n\u001b[0;32m--> 364\u001b[0;31m         \u001b[0;32mreturn\u001b[0m \u001b[0mself\u001b[0m\u001b[0;34m.\u001b[0m\u001b[0m_map_async\u001b[0m\u001b[0;34m(\u001b[0m\u001b[0mfunc\u001b[0m\u001b[0;34m,\u001b[0m \u001b[0miterable\u001b[0m\u001b[0;34m,\u001b[0m \u001b[0mmapstar\u001b[0m\u001b[0;34m,\u001b[0m \u001b[0mchunksize\u001b[0m\u001b[0;34m)\u001b[0m\u001b[0;34m.\u001b[0m\u001b[0mget\u001b[0m\u001b[0;34m(\u001b[0m\u001b[0;34m)\u001b[0m\u001b[0;34m\u001b[0m\u001b[0;34m\u001b[0m\u001b[0m\n\u001b[0m\u001b[1;32m    365\u001b[0m \u001b[0;34m\u001b[0m\u001b[0m\n\u001b[1;32m    366\u001b[0m     \u001b[0;32mdef\u001b[0m \u001b[0mstarmap\u001b[0m\u001b[0;34m(\u001b[0m\u001b[0mself\u001b[0m\u001b[0;34m,\u001b[0m \u001b[0mfunc\u001b[0m\u001b[0;34m,\u001b[0m \u001b[0miterable\u001b[0m\u001b[0;34m,\u001b[0m \u001b[0mchunksize\u001b[0m\u001b[0;34m=\u001b[0m\u001b[0;32mNone\u001b[0m\u001b[0;34m)\u001b[0m\u001b[0;34m:\u001b[0m\u001b[0;34m\u001b[0m\u001b[0;34m\u001b[0m\u001b[0m\n",
      "\u001b[0;32m~/anaconda3/lib/python3.8/multiprocessing/pool.py\u001b[0m in \u001b[0;36mget\u001b[0;34m(self, timeout)\u001b[0m\n\u001b[1;32m    769\u001b[0m             \u001b[0;32mreturn\u001b[0m \u001b[0mself\u001b[0m\u001b[0;34m.\u001b[0m\u001b[0m_value\u001b[0m\u001b[0;34m\u001b[0m\u001b[0;34m\u001b[0m\u001b[0m\n\u001b[1;32m    770\u001b[0m         \u001b[0;32melse\u001b[0m\u001b[0;34m:\u001b[0m\u001b[0;34m\u001b[0m\u001b[0;34m\u001b[0m\u001b[0m\n\u001b[0;32m--> 771\u001b[0;31m             \u001b[0;32mraise\u001b[0m \u001b[0mself\u001b[0m\u001b[0;34m.\u001b[0m\u001b[0m_value\u001b[0m\u001b[0;34m\u001b[0m\u001b[0;34m\u001b[0m\u001b[0m\n\u001b[0m\u001b[1;32m    772\u001b[0m \u001b[0;34m\u001b[0m\u001b[0m\n\u001b[1;32m    773\u001b[0m     \u001b[0;32mdef\u001b[0m \u001b[0m_set\u001b[0m\u001b[0;34m(\u001b[0m\u001b[0mself\u001b[0m\u001b[0;34m,\u001b[0m \u001b[0mi\u001b[0m\u001b[0;34m,\u001b[0m \u001b[0mobj\u001b[0m\u001b[0;34m)\u001b[0m\u001b[0;34m:\u001b[0m\u001b[0;34m\u001b[0m\u001b[0;34m\u001b[0m\u001b[0m\n",
      "\u001b[0;31mNameError\u001b[0m: name 'base_url' is not defined"
     ]
    }
   ],
   "source": [
    "pool = Pool()\n",
    "pool.map(scrape_location, list(data.keys()))"
   ]
  },
  {
   "cell_type": "code",
   "execution_count": null,
   "metadata": {},
   "outputs": [],
   "source": []
  }
 ]
}