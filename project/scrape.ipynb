{
 "metadata": {
  "language_info": {
   "codemirror_mode": {
    "name": "ipython",
    "version": 3
   },
   "file_extension": ".py",
   "mimetype": "text/x-python",
   "name": "python",
   "nbconvert_exporter": "python",
   "pygments_lexer": "ipython3",
   "version": "3.8.5"
  },
  "orig_nbformat": 2,
  "kernelspec": {
   "name": "python385jvsc74a57bd0c68d4298c5345bf0563781c7251920cf7410e40ed6e84f026b139b699a40b88d",
   "display_name": "Python 3.8.5 64-bit ('base': conda)"
  }
 },
 "nbformat": 4,
 "nbformat_minor": 2,
 "cells": [
  {
   "cell_type": "code",
   "execution_count": 228,
   "metadata": {},
   "outputs": [
    {
     "output_type": "stream",
     "name": "stderr",
     "text": [
      "\n",
      "\n",
      "====== WebDriver manager ======\n",
      "Current google-chrome version is 90.0.4430\n",
      "Get LATEST driver version for 90.0.4430\n",
      "Driver [/home/matas/.wdm/drivers/chromedriver/linux64/90.0.4430.24/chromedriver] found in cache\n"
     ]
    }
   ],
   "source": [
    "import instascrape\n",
    "from bs4 import BeautifulSoup\n",
    "from selenium import webdriver\n",
    "import re\n",
    "from webdriver_manager.chrome import ChromeDriverManager\n",
    "import urllib.parse\n",
    "from datastructures import Location, Site\n",
    "from dataclasses_serialization.json import JSONSerializer\n",
    "import time\n",
    "import json\n",
    "\n",
    "driver = webdriver.Chrome(ChromeDriverManager().install())"
   ]
  },
  {
   "source": [
    "# 1. Get a list of all Locations that Instagram supports"
   ],
   "cell_type": "markdown",
   "metadata": {}
  },
  {
   "cell_type": "code",
   "execution_count": 229,
   "metadata": {
    "tags": []
   },
   "outputs": [
    {
     "output_type": "stream",
     "name": "stdout",
     "text": [
      "Getting the next page: /explore/locations/US/united-states/?page=2\n",
      "Getting the next page: /explore/locations/US/united-states/?page=3\n",
      "Getting the next page: /explore/locations/US/united-states/?page=4\n",
      "Getting the next page: /explore/locations/US/united-states/?page=5\n",
      "Getting the next page: /explore/locations/US/united-states/?page=6\n",
      "Getting the next page: /explore/locations/US/united-states/?page=7\n",
      "Getting the next page: /explore/locations/US/united-states/?page=8\n",
      "Getting the next page: /explore/locations/US/united-states/?page=9\n",
      "Getting the next page: /explore/locations/US/united-states/?page=10\n",
      "Getting the next page: /explore/locations/US/united-states/?page=11\n"
     ]
    }
   ],
   "source": [
    "instagram_us_cities = \"https://www.instagram.com/explore/locations/US/united-states/\"\n",
    "driver.get(instagram_us_cities)\n",
    "soup = BeautifulSoup(driver.page_source)\n",
    "\n",
    "data = {}\n",
    "\n",
    "next_page = not None\n",
    "\n",
    "while next_page is not None:\n",
    "    next_page = soup.find(\"a\", href=re.compile(\"\\?page=\"))\n",
    "\n",
    "    links = soup.find_all(\"a\", href=re.compile(\"/explore/locations/\"))\n",
    "    for link in links:\n",
    "        if link.text == \"See More\":\n",
    "            continue\n",
    "        data[link.text] = Location(link.text, link[\"href\"], [])\n",
    "\n",
    "    if next_page is None:\n",
    "        break\n",
    "\n",
    "    print(\"Getting the next page:\", next_page[\"href\"])\n",
    "    driver.get(urllib.parse.urljoin(base_url, next_page[\"href\"]))\n",
    "    soup = BeautifulSoup(driver.page_source)\n",
    "    time.sleep(2)\n",
    "\n",
    "# Remove last link to more locations\n",
    "del data[\"Locations\"]"
   ]
  },
  {
   "source": [
    "# Get the Sites from each Location"
   ],
   "cell_type": "markdown",
   "metadata": {}
  },
  {
   "cell_type": "code",
   "execution_count": 243,
   "metadata": {},
   "outputs": [
    {
     "output_type": "stream",
     "name": "stdout",
     "text": [
      "Midtown East\n"
     ]
    }
   ],
   "source": [
    "for key, location in data.items():\n",
    "    print(location.name)\n",
    "    break"
   ]
  },
  {
   "source": [
    "## Serialize / Deserialize the data"
   ],
   "cell_type": "markdown",
   "metadata": {}
  },
  {
   "cell_type": "code",
   "execution_count": 244,
   "metadata": {
    "tags": []
   },
   "outputs": [],
   "source": [
    "def serialize_instagram_data(data: dict, path: str) -> None:\n",
    "    with open(path, \"w\") as file:\n",
    "        json.dump(JSONSerializer.serialize(data), file)\n",
    "\n",
    "def deserialize_instagram_data(path: str) -> dict:\n",
    "    data = json.loads(open(path, \"r\").read())\n",
    "    for key, val in data.items():\n",
    "        data[key] = JSONSerializer.deserialize(Location, data[key])\n",
    "    return data"
   ]
  }
 ]
}